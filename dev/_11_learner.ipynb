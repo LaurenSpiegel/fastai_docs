{
 "cells": [
  {
   "cell_type": "code",
   "execution_count": null,
   "metadata": {},
   "outputs": [],
   "source": [
    "# default_exp learner"
   ]
  },
  {
   "cell_type": "code",
   "execution_count": null,
   "metadata": {},
   "outputs": [],
   "source": [
    "#export\n",
    "from local.imports import *\n",
    "from local.test import *\n",
    "from local.core import *\n",
    "from local.data.pipeline import *\n",
    "from local.data.source import *\n",
    "from local.data.core import *\n",
    "from local.data.external import *\n",
    "\n",
    "from PIL import Image"
   ]
  },
  {
   "cell_type": "markdown",
   "metadata": {},
   "source": [
    "# Learner\n",
    "\n",
    "> Basic class for handling the training loop"
   ]
  },
  {
   "cell_type": "markdown",
   "metadata": {},
   "source": [
    "## Gather the data"
   ]
  },
  {
   "cell_type": "code",
   "execution_count": null,
   "metadata": {},
   "outputs": [],
   "source": [
    "source = untar_data(URLs.MNIST_TINY)\n",
    "items = get_image_files(source, include=['train', 'valid'])\n",
    "split_idx = GrandparentSplitter()(items)"
   ]
  },
  {
   "cell_type": "code",
   "execution_count": null,
   "metadata": {},
   "outputs": [],
   "source": [
    "class MnistTfm(Transform):\n",
    "    def __init__(self, items, idx, vocab=None):\n",
    "        super().__init__()\n",
    "        self.items = items[idx]\n",
    "        self.labeller = parent_label\n",
    "        vals = map(self.labeller, items[idx])\n",
    "        self.vocab = uniqueify(vals, sort=True) if vocab is None else vocab\n",
    "        self.o2i = {v:i for i,v in enumerate(self.vocab)}\n",
    "    \n",
    "    def __len__(self): return len(self.items)\n",
    "    \n",
    "    def encodes(self, i):\n",
    "        o = self.items[i]\n",
    "        img = Image.open(o).convert('L')\n",
    "        return tensor(array(img)).view(1,28,28).float()/255., self.o2i[self.labeller(o)]\n",
    "    \n",
    "    def decodes(self, o): return o[0][0],self.vocab[o[1]]\n",
    "    def show(self, o, ax=None): show_image(o[0], ax, title=o[1], cmap='gray')"
   ]
  },
  {
   "cell_type": "code",
   "execution_count": null,
   "metadata": {},
   "outputs": [],
   "source": [
    "train = MnistTfm(items, split_idx[0])\n",
    "valid = MnistTfm(items, split_idx[1], vocab=train.vocab)"
   ]
  },
  {
   "cell_type": "code",
   "execution_count": null,
   "metadata": {},
   "outputs": [
    {
     "data": {
      "image/png": "[encoded data removed]",
      "text/plain": [
       "<Figure size 432x288 with 1 Axes>"
      ]
     },
     "metadata": {
      "needs_background": "light"
     },
     "output_type": "display_data"
    }
   ],
   "source": [
    "x,y = train[0]\n",
    "x.shape,y\n",
    "train.show(train.decode((x,y)))"
   ]
  },
  {
   "cell_type": "code",
   "execution_count": null,
   "metadata": {},
   "outputs": [],
   "source": [
    "# TODO: take from somewhere else\n",
    "class Normalize(Transform):\n",
    "    _order=99\n",
    "    def __init__(self, mean, std, do_x=True, do_y=False):\n",
    "        self.mean,self.std,self.do_x,self.do_y = mean,std,do_x,do_y\n",
    "        \n",
    "    def encodes(self, b):\n",
    "        x,y = b\n",
    "        if self.do_x: x = self.normalize(x)\n",
    "        if self.do_y: y = self.normalize(y)\n",
    "        return x,y\n",
    "    \n",
    "    def decodes(self, b):\n",
    "        x,y = b\n",
    "        if self.do_x: x = self.denorm(x)\n",
    "        if self.do_y: y = self.denorm(y)\n",
    "        return x,y\n",
    "    \n",
    "    def normalize(self, x): return (x - self.mean) / self.std\n",
    "    def denorm(self, x):    return x * self.std + self.mean"
   ]
  },
  {
   "cell_type": "code",
   "execution_count": null,
   "metadata": {},
   "outputs": [],
   "source": [
    "mean,std = (0.1307,0.3081)\n",
    "tfms = [Normalize(mean,std)]"
   ]
  },
  {
   "cell_type": "code",
   "execution_count": null,
   "metadata": {},
   "outputs": [],
   "source": [
    "train_dl,valid_dl = map(lambda o: DataLoader(o[1], batch_size=256, shuffle=(o[0]==0)), enumerate([train,valid]))\n",
    "train_dl,valid_dl = map(lambda dl: TfmDataLoader(dl, tfms), [train_dl,valid_dl])"
   ]
  },
  {
   "cell_type": "code",
   "execution_count": null,
   "metadata": {},
   "outputs": [],
   "source": [
    "x,y = next(iter(train_dl))"
   ]
  },
  {
   "cell_type": "code",
   "execution_count": null,
   "metadata": {},
   "outputs": [
    {
     "data": {
      "text/plain": [
       "(torch.Size([256, 1, 28, 28]), torch.Size([256]))"
      ]
     },
     "execution_count": null,
     "metadata": {},
     "output_type": "execute_result"
    }
   ],
   "source": [
    "x.shape,y.shape"
   ]
  },
  {
   "cell_type": "markdown",
   "metadata": {},
   "source": [
    "## Training loop"
   ]
  },
  {
   "cell_type": "code",
   "execution_count": null,
   "metadata": {},
   "outputs": [],
   "source": []
  }
 ],
 "metadata": {
  "kernelspec": {
   "display_name": "Python 3",
   "language": "python",
   "name": "python3"
  }
 },
 "nbformat": 4,
 "nbformat_minor": 2
}
