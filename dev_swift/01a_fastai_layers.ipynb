{
 "cells": [
  {
   "cell_type": "markdown",
   "metadata": {},
   "source": [
    "# \"fast.ai\" layers\n",
    "\n",
    "This notebook defines layers similar to those defined in the [Swift for TensorFlow Deep Learning Library](https://github.com/tensorflow/swift-apis), but with some experimental extra features for the fast.ai course."
   ]
  },
  {
   "cell_type": "code",
   "execution_count": null,
   "metadata": {},
   "outputs": [
    {
     "name": "stdout",
     "output_type": "stream",
     "text": [
      "Installing packages:\n",
      "\t.package(path: \"/home/ubuntu/fastai_docs/dev_swift/FastaiNotebook_01_matmul\")\n",
      "\t\tFastaiNotebook_01_matmul\n",
      "With SwiftPM flags: []\n",
      "Working in: /tmp/tmp51kzsgi6/swift-install\n",
      "Updating https://github.com/JustHTTP/Just\n",
      "Updating https://github.com/latenitesoft/NotebookExport\n",
      "Updating https://github.com/mxcl/Path.swift\n",
      "Completed resolution in 1.53s\n",
      "Compile Swift Module 'FastaiNotebook_00_load_data' (1 sources)\n",
      "Compile Swift Module 'FastaiNotebook_01_matmul' (2 sources)\n",
      "Compile Swift Module 'jupyterInstalledPackages' (1 sources)\n",
      "Linking ./.build/x86_64-unknown-linux/debug/libjupyterInstalledPackages.so\n",
      "Initializing Swift...\n",
      "Installation complete!\n"
     ]
    }
   ],
   "source": [
    "%install-location $cwd/swift-install\n",
    "%install '.package(path: \"$cwd/FastaiNotebook_01_matmul\")' FastaiNotebook_01_matmul"
   ]
  },
  {
   "cell_type": "code",
   "execution_count": null,
   "metadata": {},
   "outputs": [],
   "source": [
    "//export\n",
    "import Path\n",
    "import TensorFlow"
   ]
  },
  {
   "cell_type": "code",
   "execution_count": null,
   "metadata": {},
   "outputs": [],
   "source": [
    "import FastaiNotebook_01_matmul"
   ]
  },
  {
   "cell_type": "markdown",
   "metadata": {},
   "source": [
    "## Tensor extensions"
   ]
  },
  {
   "cell_type": "markdown",
   "metadata": {},
   "source": [
    "### kaiming normal"
   ]
  },
  {
   "cell_type": "code",
   "execution_count": null,
   "metadata": {},
   "outputs": [],
   "source": [
    "// export\n",
    "public extension Tensor where Scalar: TensorFlowFloatingPoint {\n",
    "    init(kaimingNormal shape: TensorShape, negativeSlope: Double = 1.0) {\n",
    "        // Assumes Leaky ReLU nonlinearity\n",
    "        let gain = Scalar(sqrt(2.0 / (1.0 + pow(negativeSlope, 2))))\n",
    "        let spatialDimCount = shape.count - 2\n",
    "        let receptiveField = shape[0..<spatialDimCount].contiguousSize\n",
    "        let fanIn = shape[spatialDimCount] * receptiveField\n",
    "        self.init(randomNormal: shape)\n",
    "        self *= Tensor<Scalar>(gain/sqrt(Scalar(fanIn)))\n",
    "    }\n",
    "}"
   ]
  },
  {
   "cell_type": "markdown",
   "metadata": {},
   "source": [
    "### std"
   ]
  },
  {
   "cell_type": "code",
   "execution_count": null,
   "metadata": {},
   "outputs": [],
   "source": [
    "// export\n",
    "public extension Tensor where Scalar: TensorFlowFloatingPoint {\n",
    "    func std() -> Tensor<Scalar> { return standardDeviation() }\n",
    "    func std(alongAxes a: [Int]) -> Tensor<Scalar> { return standardDeviation(alongAxes: a) }\n",
    "    func std(alongAxes a: Tensor<Int32>) -> Tensor<Scalar> { return standardDeviation(alongAxes: a) }\n",
    "    func std(alongAxes a: Int...) -> Tensor<Scalar> { return standardDeviation(alongAxes: a) }\n",
    "    func std(squeezingAxes a: [Int]) -> Tensor<Scalar> { return standardDeviation(squeezingAxes: a) }\n",
    "    func std(squeezingAxes a: Tensor<Int32>) -> Tensor<Scalar> { return standardDeviation(squeezingAxes: a) }\n",
    "    func std(squeezingAxes a: Int...) -> Tensor<Scalar> { return standardDeviation(squeezingAxes: a) }\n",
    "}"
   ]
  },
  {
   "cell_type": "markdown",
   "metadata": {},
   "source": [
    "# Protocol"
   ]
  },
  {
   "cell_type": "code",
   "execution_count": null,
   "metadata": {},
   "outputs": [],
   "source": [
    "//export\n",
    "import TensorFlow\n",
    "\n",
    "public protocol FALayer: Layer {\n",
    "    associatedtype Input\n",
    "    associatedtype Output\n",
    "    \n",
    "    var delegate: LayerDelegate<Output> { get set }\n",
    "    \n",
    "    @differentiable\n",
    "    func forward(_ input: Input) -> Output\n",
    "}\n",
    "\n",
    "public extension FALayer {\n",
    "    // NOTE: AutoDiff synthesizes a leaking VJP for this, so we define a custom VJP.\n",
    "    // NOTE: If we use `@differentiating`, then there is a linker error. So we use `@differentiable` instead.\n",
    "    @differentiable(vjp: callGrad)\n",
    "    func call(_ input: Input) -> Output {\n",
    "        let activation = forward(input)\n",
    "        delegate.didProduceActivation(activation)\n",
    "        return activation\n",
    "    }\n",
    "    \n",
    "    func callGrad(_ input: Input) ->\n",
    "        (Output, (Self.Output.CotangentVector) -> (Self.CotangentVector, Self.Input.CotangentVector)) {\n",
    "        return Swift.valueWithPullback(at: self, input) { (m, i) in m.forward(i) }\n",
    "    }\n",
    "}\n",
    "\n",
    "open class LayerDelegate<Output> {\n",
    "    public init() {}\n",
    "    \n",
    "    open func didProduceActivation(_ activation: Output) {}\n",
    "}"
   ]
  },
  {
   "cell_type": "markdown",
   "metadata": {},
   "source": [
    "# Dense"
   ]
  },
  {
   "cell_type": "code",
   "execution_count": null,
   "metadata": {},
   "outputs": [],
   "source": [
    "//export\n",
    "\n",
    "@_fixed_layout\n",
    "public struct FADense<Scalar: TensorFlowFloatingPoint>: FALayer { \n",
    "    public var weight: Tensor<Scalar>\n",
    "    public var bias: Tensor<Scalar>\n",
    "    public typealias Activation = @differentiable (Tensor<Scalar>) -> Tensor<Scalar>\n",
    "    @noDerivative public let activation: Activation\n",
    "    \n",
    "    @noDerivative public var delegate: LayerDelegate<Output> = LayerDelegate()\n",
    "\n",
    "    public init(\n",
    "        weight: Tensor<Scalar>,\n",
    "        bias: Tensor<Scalar>,\n",
    "        activation: @escaping Activation\n",
    "    ) {\n",
    "        self.weight = weight\n",
    "        self.bias = bias\n",
    "        self.activation = activation\n",
    "    }\n",
    "\n",
    "    @differentiable\n",
    "    public func forward(_ input: Tensor<Scalar>) -> Tensor<Scalar> {\n",
    "        return activation(matmul(input, weight) + bias)\n",
    "    }\n",
    "}\n",
    "\n",
    "public extension FADense {\n",
    "    init(_ nIn: Int, _ nOut: Int, activation: @escaping Activation = identity) {\n",
    "        self.init(weight: Tensor(kaimingNormal: [nIn, nOut]),\n",
    "                  bias: Tensor(zeros: [nOut]),\n",
    "                  activation: activation)\n",
    "    }\n",
    "}"
   ]
  },
  {
   "cell_type": "markdown",
   "metadata": {},
   "source": [
    "# Conv2D"
   ]
  },
  {
   "cell_type": "code",
   "execution_count": null,
   "metadata": {},
   "outputs": [],
   "source": [
    "//export\n",
    "\n",
    "@_fixed_layout\n",
    "public struct FANoBiasConv2D<Scalar: TensorFlowFloatingPoint>: FALayer {\n",
    "    public var filter: Tensor<Scalar>\n",
    "    public typealias Activation = @differentiable (Tensor<Scalar>) -> Tensor<Scalar>\n",
    "    @noDerivative public let activation: Activation\n",
    "    @noDerivative public let strides: (Int, Int)\n",
    "    @noDerivative public let padding: Padding\n",
    "    \n",
    "    @noDerivative public var delegate: LayerDelegate<Output> = LayerDelegate()\n",
    "\n",
    "    public init(\n",
    "        filter: Tensor<Scalar>,\n",
    "        activation: @escaping Activation,\n",
    "        strides: (Int, Int),\n",
    "        padding: Padding\n",
    "    ) {\n",
    "        self.filter = filter\n",
    "        self.activation = activation\n",
    "        self.strides = strides\n",
    "        self.padding = padding\n",
    "    }\n",
    "\n",
    "    @differentiable\n",
    "    public func forward(_ input: Tensor<Scalar>) -> Tensor<Scalar> {\n",
    "        return activation(input.convolved2D(withFilter: filter,\n",
    "                                            strides: (1, strides.0, strides.1, 1),\n",
    "                                            padding: padding))\n",
    "    }\n",
    "}\n",
    "\n",
    "public extension FANoBiasConv2D {\n",
    "    init(\n",
    "        filterShape: (Int, Int, Int, Int),\n",
    "        strides: (Int, Int) = (1, 1),\n",
    "        padding: Padding = .same,\n",
    "        activation: @escaping Activation = identity\n",
    "    ) {\n",
    "        let filterTensorShape = TensorShape([\n",
    "            filterShape.0, filterShape.1,\n",
    "            filterShape.2, filterShape.3])\n",
    "        self.init(\n",
    "            filter: Tensor(kaimingNormal: filterTensorShape),\n",
    "            activation: activation,\n",
    "            strides: strides,\n",
    "            padding: padding)\n",
    "    }\n",
    "}\n",
    "\n",
    "public extension FANoBiasConv2D {\n",
    "    init(_ cIn: Int, _ cOut: Int, ks: Int, stride: Int = 1, padding: Padding = .same,\n",
    "         activation: @escaping Activation = identity){\n",
    "        self.init(filterShape: (ks, ks, cIn, cOut),\n",
    "                  strides: (stride, stride),\n",
    "                  padding: padding,\n",
    "                  activation: activation)\n",
    "    }\n",
    "}"
   ]
  },
  {
   "cell_type": "code",
   "execution_count": null,
   "metadata": {},
   "outputs": [],
   "source": [
    "//export\n",
    "\n",
    "@_fixed_layout\n",
    "public struct FAConv2D<Scalar: TensorFlowFloatingPoint>: FALayer {\n",
    "    public typealias Input = Tensor<Scalar>\n",
    "    public typealias Output = Tensor<Scalar>\n",
    "    \n",
    "    public var filter: Tensor<Scalar>\n",
    "    public var bias: Tensor<Scalar>\n",
    "    public typealias Activation = @differentiable (Tensor<Scalar>) -> Tensor<Scalar>\n",
    "    @noDerivative public let activation: Activation\n",
    "    @noDerivative public let strides: (Int, Int)\n",
    "    @noDerivative public let padding: Padding\n",
    "    \n",
    "    @noDerivative public var delegate: LayerDelegate<Output> = LayerDelegate()\n",
    "\n",
    "    public init(\n",
    "        filter: Tensor<Scalar>,\n",
    "        bias: Tensor<Scalar>,\n",
    "        activation: @escaping Activation,\n",
    "        strides: (Int, Int),\n",
    "        padding: Padding\n",
    "    ) {\n",
    "        self.filter = filter\n",
    "        self.bias = bias\n",
    "        self.activation = activation\n",
    "        self.strides = strides\n",
    "        self.padding = padding\n",
    "    }\n",
    "\n",
    "    @differentiable\n",
    "    public func forward(_ input: Tensor<Scalar>) -> Tensor<Scalar> {\n",
    "        return activation(input.convolved2D(withFilter: filter,\n",
    "                                            strides: (1, strides.0, strides.1, 1),\n",
    "                                            padding: padding) + bias)\n",
    "    }\n",
    "}\n",
    "\n",
    "public extension FAConv2D {\n",
    "    init(\n",
    "        filterShape: (Int, Int, Int, Int),\n",
    "        strides: (Int, Int) = (1, 1),\n",
    "        padding: Padding = .same,\n",
    "        activation: @escaping Activation = identity\n",
    "    ) {\n",
    "        let filterTensorShape = TensorShape([\n",
    "            filterShape.0, filterShape.1,\n",
    "            filterShape.2, filterShape.3])\n",
    "        self.init(\n",
    "            filter: Tensor(kaimingNormal: filterTensorShape),\n",
    "            bias: Tensor(zeros: TensorShape([filterShape.3])),\n",
    "            activation: activation,\n",
    "            strides: strides,\n",
    "            padding: padding)\n",
    "    }\n",
    "}\n",
    "\n",
    "public extension FAConv2D {\n",
    "    init(_ cIn: Int, _ cOut: Int, ks: Int, stride: Int = 1, padding: Padding = .same,\n",
    "         activation: @escaping Activation = identity){\n",
    "        self.init(filterShape: (ks, ks, cIn, cOut),\n",
    "                  strides: (stride, stride),\n",
    "                  padding: padding,\n",
    "                  activation: activation)\n",
    "    }\n",
    "}"
   ]
  },
  {
   "cell_type": "markdown",
   "metadata": {},
   "source": [
    "# AvgPool2D"
   ]
  },
  {
   "cell_type": "code",
   "execution_count": null,
   "metadata": {},
   "outputs": [],
   "source": [
    "//export\n",
    "\n",
    "@_fixed_layout\n",
    "public struct FAAvgPool2D<Scalar: TensorFlowFloatingPoint>: FALayer {\n",
    "    @noDerivative let poolSize: (Int, Int, Int, Int)\n",
    "    @noDerivative let strides: (Int, Int, Int, Int)\n",
    "    @noDerivative let padding: Padding\n",
    "    \n",
    "    @noDerivative public var delegate: LayerDelegate<Output> = LayerDelegate()\n",
    "\n",
    "    public init(\n",
    "        poolSize: (Int, Int, Int, Int),\n",
    "        strides: (Int, Int, Int, Int),\n",
    "        padding: Padding\n",
    "    ) {\n",
    "        self.poolSize = poolSize\n",
    "        self.strides = strides\n",
    "        self.padding = padding\n",
    "    }\n",
    "\n",
    "    public init(poolSize: (Int, Int), strides: (Int, Int), padding: Padding = .valid) {\n",
    "        self.poolSize = (1, poolSize.0, poolSize.1, 1)\n",
    "        self.strides = (1, strides.0, strides.1, 1)\n",
    "        self.padding = padding\n",
    "    }\n",
    "    \n",
    "    public init(_ sz: Int, padding: Padding = .valid) {\n",
    "        poolSize = (1, sz, sz, 1)\n",
    "        strides = (1, sz, sz, 1)\n",
    "        self.padding = padding\n",
    "    }\n",
    "\n",
    "    @differentiable\n",
    "    public func forward(_ input: Tensor<Scalar>) -> Tensor<Scalar> {\n",
    "        return input.averagePooled(kernelSize: poolSize, strides: strides, padding: padding)\n",
    "    }\n",
    "}"
   ]
  },
  {
   "cell_type": "code",
   "execution_count": null,
   "metadata": {},
   "outputs": [],
   "source": [
    "//export\n",
    "\n",
    "@_fixed_layout\n",
    "public struct FAGlobalAvgPool2D<Scalar: TensorFlowFloatingPoint>: FALayer {\n",
    "    @noDerivative public var delegate: LayerDelegate<Output> = LayerDelegate()\n",
    "    \n",
    "    public init() {}\n",
    "\n",
    "    @differentiable\n",
    "    public func forward(_ input: Tensor<Scalar>) -> Tensor<Scalar> {\n",
    "        return input.mean(squeezingAxes: [1,2])\n",
    "    }\n",
    "}"
   ]
  },
  {
   "cell_type": "markdown",
   "metadata": {},
   "source": [
    "### Make Array conform to Differentiable"
   ]
  },
  {
   "cell_type": "code",
   "execution_count": null,
   "metadata": {},
   "outputs": [],
   "source": [
    "//export\n",
    "extension Array: Layer where Element: Layer, Element.Input == Element.Output {\n",
    "    public typealias Input = Element.Input\n",
    "    public typealias Output = Element.Output\n",
    "    \n",
    "    @differentiable(vjp: _vjpApplied)\n",
    "    public func call(_ input: Input) -> Output {\n",
    "        var activation = input\n",
    "        for layer in self {\n",
    "            activation = layer(activation)\n",
    "        }\n",
    "        return activation\n",
    "    }\n",
    "    \n",
    "    public func _vjpApplied(_ input: Input)\n",
    "        -> (Output, (Output.CotangentVector) -> (Array.CotangentVector, Input.CotangentVector))\n",
    "    {\n",
    "        var activation = input\n",
    "        var pullbacks: [(Input.CotangentVector) -> (Element.CotangentVector, Input.CotangentVector)] = []\n",
    "        for layer in self {\n",
    "            let (newActivation, newPullback) = layer.valueWithPullback(at: activation) { $0($1) }\n",
    "            activation = newActivation\n",
    "            pullbacks.append(newPullback)\n",
    "        }\n",
    "        func pullback(_ v: Input.CotangentVector) -> (Array.CotangentVector, Input.CotangentVector) {\n",
    "            var activationGradient = v\n",
    "            var layerGradients: [Element.CotangentVector] = []\n",
    "            for pullback in pullbacks.reversed() {\n",
    "                let (newLayerGradient, newActivationGradient) = pullback(activationGradient)\n",
    "                activationGradient = newActivationGradient\n",
    "                layerGradients.append(newLayerGradient)\n",
    "            }\n",
    "            return (Array.CotangentVector(layerGradients.reversed()), activationGradient)\n",
    "        }\n",
    "        return (activation, pullback)\n",
    "    }\n",
    "}"
   ]
  },
  {
   "cell_type": "markdown",
   "metadata": {},
   "source": [
    "### Simplify some names"
   ]
  },
  {
   "cell_type": "code",
   "execution_count": null,
   "metadata": {},
   "outputs": [],
   "source": [
    "//export \n",
    "extension KeyPathIterable {\n",
    "    public var keyPaths: [WritableKeyPath<Self, Tensor<Float>>] {\n",
    "        return recursivelyAllWritableKeyPaths(to: Tensor<Float>.self)\n",
    "    }\n",
    "}\n",
    "\n",
    "extension Layer {\n",
    "    public var variables: AllDifferentiableVariables { return allDifferentiableVariables }\n",
    "}"
   ]
  },
  {
   "cell_type": "markdown",
   "metadata": {},
   "source": [
    "## power operator"
   ]
  },
  {
   "cell_type": "code",
   "execution_count": null,
   "metadata": {},
   "outputs": [],
   "source": [
    "// export\n",
    "precedencegroup ExponentiationPrecedence {\n",
    "    associativity: right\n",
    "    higherThan: MultiplicationPrecedence\n",
    "}\n",
    "\n",
    "infix operator ** : ExponentiationPrecedence\n",
    "\n",
    "public func ** (lhs: Int, rhs: Int) -> Int {\n",
    "    return Int(pow(Double(lhs), Double(rhs)))\n",
    "}\n",
    "\n",
    "public func ** (lhs: Double, rhs: Double) -> Double {\n",
    "    return pow(lhs, rhs)\n",
    "}\n",
    "\n",
    "public func **<T : BinaryFloatingPoint>(_ x: T, _ y: T) -> T {\n",
    "    return T(pow(Double(x), Double(y)))\n",
    "}\n",
    "\n",
    "public func **<T>(_ x: Tensor<T>, _ y: Tensor<T>) -> Tensor<T>\n",
    "  where T : FloatingPoint { return pow(x, y)}\n",
    "\n",
    "public func **<T>(_ x: T, _ y: Tensor<T>) -> Tensor<T>\n",
    "  where T : FloatingPoint { return pow(x, y)}\n",
    "\n",
    "public func **<T>(_ x: Tensor<T>, _ y: T) -> Tensor<T>\n",
    "  where T : FloatingPoint { return pow(x, y)}"
   ]
  },
  {
   "cell_type": "markdown",
   "metadata": {},
   "source": [
    "### Compose"
   ]
  },
  {
   "cell_type": "code",
   "execution_count": null,
   "metadata": {},
   "outputs": [],
   "source": [
    "//export\n",
    "public extension Differentiable {\n",
    "    @differentiable\n",
    "    func sequenced<L1: Layer, L2: Layer>(_ l1: L1, _ l2: L2) -> L2.Output\n",
    "        where L1.Input == Self, L1.Output == L2.Input {\n",
    "        return sequenced(through: l1, l2)\n",
    "    }\n",
    "    \n",
    "    @differentiable\n",
    "    func composer<L1: Layer, L2: Layer, L3: Layer>(_ l1: L1, _ l2: L2, _ l3: L3) -> L3.Output\n",
    "        where L1.Input == Self, L1.Output == L2.Input, L2.Output == L3.Input {\n",
    "        return sequenced(through: l1, l2, l3)\n",
    "    }\n",
    "    \n",
    "    @differentiable\n",
    "    func compose<L1: Layer, L2: Layer, L3: Layer, L4: Layer>(\n",
    "        _ l1: L1, _ l2: L2, _ l3: L3, _ l4: L4\n",
    "    ) -> L4.Output\n",
    "        where L1.Input == Self, L1.Output == L2.Input, L2.Output == L3.Input,\n",
    "              L3.Output == L4.Input {\n",
    "        return sequenced(through: l1, l2, l3, l4)\n",
    "    }\n",
    "    \n",
    "    @differentiable\n",
    "    func compose<L1: Layer, L2: Layer, L3: Layer, L4: Layer, L5: Layer>(\n",
    "        _ l1: L1, _ l2: L2, _ l3: L3, _ l4: L4, _ l5: L5\n",
    "    ) -> L5.Output\n",
    "        where L1.Input == Self, L1.Output == L2.Input, L2.Output == L3.Input, L3.Output == L4.Input,\n",
    "              L4.Output == L5.Input {\n",
    "        return sequenced(through: l1, l2, l3, l4, l5)\n",
    "    }\n",
    "    \n",
    "    @differentiable\n",
    "    func compose<L1: Layer, L2: Layer, L3: Layer, L4: Layer, L5: Layer, L6: Layer>(\n",
    "        _ l1: L1, _ l2: L2, _ l3: L3, _ l4: L4, _ l5: L5, _ l6: L6\n",
    "    ) -> L6.Output\n",
    "        where L1.Input == Self, L1.Output == L2.Input, L2.Output == L3.Input, L3.Output == L4.Input,\n",
    "              L4.Output == L5.Input, L5.Output == L6.Input {\n",
    "        return sequenced(through: l1, l2, l3, l4, l5, l6)\n",
    "    }\n",
    "}"
   ]
  },
  {
   "cell_type": "markdown",
   "metadata": {},
   "source": [
    "# Export"
   ]
  },
  {
   "cell_type": "code",
   "execution_count": null,
   "metadata": {},
   "outputs": [
    {
     "name": "stdout",
     "output_type": "stream",
     "text": [
      "success\r\n"
     ]
    }
   ],
   "source": [
    "import NotebookExport\n",
    "let exporter = NotebookExport(Path.cwd/\"01a_fastai_layers.ipynb\")\n",
    "print(exporter.export(usingPrefix: \"FastaiNotebook_\"))"
   ]
  },
  {
   "cell_type": "code",
   "execution_count": null,
   "metadata": {},
   "outputs": [],
   "source": []
  }
 ],
 "metadata": {
  "kernelspec": {
   "display_name": "Swift",
   "language": "swift",
   "name": "swift"
  }
 },
 "nbformat": 4,
 "nbformat_minor": 2
}
